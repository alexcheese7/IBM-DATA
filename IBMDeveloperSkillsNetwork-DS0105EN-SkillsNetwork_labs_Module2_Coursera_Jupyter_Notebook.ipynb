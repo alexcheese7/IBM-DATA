{
  "metadata": {
    "kernelspec": {
      "name": "python",
      "display_name": "Pyolite",
      "language": "python"
    },
    "language_info": {
      "codemirror_mode": {
        "name": "python",
        "version": 3
      },
      "file_extension": ".py",
      "mimetype": "text/x-python",
      "name": "python",
      "nbconvert_exporter": "python",
      "pygments_lexer": "ipython3",
      "version": "3.8"
    }
  },
  "nbformat_minor": 4,
  "nbformat": 4,
  "cells": [
    {
      "cell_type": "markdown",
      "source": "<center>\n    <img src=\"https://cf-courses-data.s3.us.cloud-object-storage.appdomain.cloud/IBMDeveloperSkillsNetwork-DS0105EN-SkillsNetwork/labs/Module2/images/SN_web_lightmode.png\" width=\"300\" alt=\"cognitiveclass.ai logo\">\n</center>\n",
      "metadata": {}
    },
    {
      "cell_type": "markdown",
      "source": "# My Jupyter Notebook on Skills Network",
      "metadata": {}
    },
    {
      "cell_type": "markdown",
      "source": "**Alex Shi**<br>\nSocial Researcher\n",
      "metadata": {}
    },
    {
      "cell_type": "markdown",
      "source": "\"*I am interested in data science because there are numbers in all parts of like: sports, finance, gaming, and even investing.*\"",
      "metadata": {}
    },
    {
      "cell_type": "markdown",
      "source": " ### cell5 will Print a string \\\"Hello world\\\" ",
      "metadata": {}
    },
    {
      "cell_type": "code",
      "source": " print(\"Hello IBM\")",
      "metadata": {
        "trusted": true
      },
      "execution_count": 12,
      "outputs": [
        {
          "name": "stdout",
          "text": "Hello IBM\n",
          "output_type": "stream"
        }
      ]
    },
    {
      "cell_type": "markdown",
      "source": "1. Hi, I am Alex\n2. My Portfolio : <https://github.com/alexcheese7>\n3. favorite song: <https://youtu.be/qQzdAsjWGPg>\n4. ~~I have a dog~~",
      "metadata": {}
    },
    {
      "cell_type": "code",
      "source": "",
      "metadata": {},
      "execution_count": null,
      "outputs": []
    }
  ]
}